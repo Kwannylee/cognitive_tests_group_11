import random
import time
import requests
from bs4 import BeautifulSoup
import json
import pandas as pd

# Set the seed immediately after importing random
random.seed(1)

data_consent_info = """DATA CONSENT INFORMATION:
Please read:
we wish to record your response data
to an anonymised public data repository.
Your data will be used for educational teaching purposes practising data analysis and visualisation.
Please type yes in the box below if you consent to the upload."""
print(data_consent_info)
result = input("> ")
if result == "yes" or "Yes":
    print("Thanks for your participation.")
    print("Please contact kwanhwi.lee.21@ucl.ac.uk")
    print("If you have any questions or concerns")
    print("regarding the stored results.")
else:
    # end code execution by raising an exception
    raise(Exception("User did not consent to continue test."))

id_instructions = """
Enter your anonymised ID
To generate an anonymous 4-letter unique user identifier please enter:
- two letters based on the initials (first and last name) of a childhood friend
- two letters based on the initials (first and last name) of a favourite actor / actress
e.g. if your friend was called Charlie Brown and film star was Tom
Cruise
then your unique identifer would be CBTC """
print(id_instructions)
user_id = input("> ")
print("User entered id:", user_id)
print("Enter your age:")
age = input("> ")
print("Enter your gender(male or female):")
gender = input("> ")

def generate_question(difficulty):
    """Generates a math question based on the difficulty level."""
    operations = ['+', '-', '*']
    question = str(random.randint(1, 10))

    for _ in range(difficulty):
        operation = random.choice(operations)
        number = random.randint(1, 10)
        question += f' {operation} {number}'

    return question

def ask_question(question):
    """Displays a question and returns the user's answer and time taken."""
    start_time = time.time()
    try:
        answer = int(input(f"{question} = "))
    except ValueError:  # In case non-integer input is given
        answer = None
    end_time = time.time()
    return answer, end_time - start_time

def maths_ability_test():
    total_questions = 0
    correct_answers = 0
    total_time = 0
    start_test = time.time()

    while time.time() - start_test < 180:  # 180 seconds = 3 minutes
        difficulty = total_questions // 5 + 1  # Increase difficulty every 5 questions
        difficulty = min(difficulty, 5)  # Max difficulty is 5

        question = generate_question(difficulty)
        correct_answer = eval(question)

        # Ensuring the answer is an integer and within the specified range
        if not isinstance(correct_answer, int) or not (1 <= correct_answer <= 500):
            continue

        start_time = time.time()  # Set start time for each question
        print(f"Question {total_questions + 1}:")
        user_answer, time_taken = ask_question(question)

        # Check if the answer is correct and an integer
        if user_answer is not None and user_answer == correct_answer:
            correct_answers += 1

        total_questions += 1
        total_time += time_taken

        # Wait until 3 seconds have passed before displaying the next question
        time.sleep(max(0, 3 - time_taken))

    average_time = total_time / total_questions if total_questions > 0 else 0

    return correct_answers, total_questions, average_time

# Running the test
score, questions_attempted, average_time = maths_ability_test()
print(f"Test Completed. Score: {score}/{questions_attempted}, Average Time: {average_time:.2f} seconds/question")

data_dict = {
    "id": user_id,
    "age": age,
    "gender": gender,
    "score": score,
    "average_time(time spent per question)": average_time
}

# Create a single-row DataFrame with an index
dataframe = pd.DataFrame([data_dict])
myjson = dataframe.to_json()
newdf = pd.read_json(myjson)
data_dict = {
    "id": user_id,
    "age": age,
    "gender": gender,
    "score": score,
    "average_time(time spent per question)": average_time,
    "results_json" : dataframe.to_json ()
}

form_url = "https://docs.google.com/forms/d/e/1FAIpQLSc6cdMzDdptB9FlgPrdABZSccaRfeKEKaCFa52_63de4Z8QKA/viewform"
send_to_google_form(data_dict, form_url)
