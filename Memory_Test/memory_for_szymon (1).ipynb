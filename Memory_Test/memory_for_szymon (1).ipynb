{
 "cells": [
  {
   "cell_type": "code",
   "execution_count": null,
   "id": "43e12aed-853d-4354-a716-6da978a7b9f0",
   "metadata": {},
   "outputs": [
    {
     "name": "stdout",
     "output_type": "stream",
     "text": [
      "\n",
      "We wish to record your response data\n",
      "to an anonymised public data repository. \n",
      "Your data will be used for educational teaching purposes\n",
      "practising data analysis and visualisation.\n",
      "\n",
      "Please type yes in the box below if you consent to the upload.\n"
     ]
    },
    {
     "name": "stdin",
     "output_type": "stream",
     "text": [
      ">  yes\n"
     ]
    },
    {
     "name": "stdout",
     "output_type": "stream",
     "text": [
      "Thanks - your data will be uploaded.\n"
     ]
    },
    {
     "data": {
      "application/vnd.jupyter.widget-view+json": {
       "model_id": "ca2d321c67674562b1f20389a3519c76",
       "version_major": 2,
       "version_minor": 0
      },
      "text/plain": [
       "Text(value='', description='ID:')"
      ]
     },
     "metadata": {},
     "output_type": "display_data"
    },
    {
     "data": {
      "application/vnd.jupyter.widget-view+json": {
       "model_id": "ac78c5fb778f4c3994b7c936399effe6",
       "version_major": 2,
       "version_minor": 0
      },
      "text/plain": [
       "IntText(value=0, description='Age:')"
      ]
     },
     "metadata": {},
     "output_type": "display_data"
    },
    {
     "data": {
      "application/vnd.jupyter.widget-view+json": {
       "model_id": "06037c3f47114be38d8adbd8e74829a3",
       "version_major": 2,
       "version_minor": 0
      },
      "text/plain": [
       "Dropdown(description='Gender:', options=('Male', 'Female', 'Other'), value='Male')"
      ]
     },
     "metadata": {},
     "output_type": "display_data"
    },
    {
     "data": {
      "application/vnd.jupyter.widget-view+json": {
       "model_id": "28120b90c3b1430cb3080a55bc2afb57",
       "version_major": 2,
       "version_minor": 0
      },
      "text/plain": [
       "Text(value='', description='Year at Uni:')"
      ]
     },
     "metadata": {},
     "output_type": "display_data"
    },
    {
     "data": {
      "application/vnd.jupyter.widget-view+json": {
       "model_id": "8cfa8f660d084a549a41071f5ef931cd",
       "version_major": 2,
       "version_minor": 0
      },
      "text/plain": [
       "Text(value='', description='Course:')"
      ]
     },
     "metadata": {},
     "output_type": "display_data"
    },
    {
     "data": {
      "application/vnd.jupyter.widget-view+json": {
       "model_id": "5fd3dd8251d7487bb2882170c4949d8f",
       "version_major": 2,
       "version_minor": 0
      },
      "text/plain": [
       "Dropdown(description='Caffeine:', options=('8h ago', '12h ago', '24h ago', '2+ days', 'None'), value='8h ago')"
      ]
     },
     "metadata": {},
     "output_type": "display_data"
    },
    {
     "data": {
      "application/vnd.jupyter.widget-view+json": {
       "model_id": "94f8e5d2603042f0919a627470827185",
       "version_major": 2,
       "version_minor": 0
      },
      "text/plain": [
       "Dropdown(description='Sleep:', options=('< 4h', '5h', '6h', '7h', '8h+'), value='< 4h')"
      ]
     },
     "metadata": {},
     "output_type": "display_data"
    },
    {
     "data": {
      "application/vnd.jupyter.widget-view+json": {
       "model_id": "169d4f6bc0224ec288b8d945dd39e612",
       "version_major": 2,
       "version_minor": 0
      },
      "text/plain": [
       "Dropdown(description='Exercise:', options=('Daily', 'Several/week', 'Weekly', 'Rarely', 'Never'), value='Daily…"
      ]
     },
     "metadata": {},
     "output_type": "display_data"
    },
    {
     "data": {
      "application/vnd.jupyter.widget-view+json": {
       "model_id": "f01307a8e87e4e28b0daf2a7dff7812d",
       "version_major": 2,
       "version_minor": 0
      },
      "text/plain": [
       "Dropdown(description='Stress:', options=('Very Low', 'Low', 'Moderate', 'High', 'Very High'), value='Very Low'…"
      ]
     },
     "metadata": {},
     "output_type": "display_data"
    },
    {
     "data": {
      "application/vnd.jupyter.widget-view+json": {
       "model_id": "533764065caf4b4d9c2adf318ac35d3c",
       "version_major": 2,
       "version_minor": 0
      },
      "text/plain": [
       "Button(description='Submit', style=ButtonStyle())"
      ]
     },
     "metadata": {},
     "output_type": "display_data"
    }
   ],
   "source": [
    "from IPython.display import display, HTML, Image, clear_output\n",
    "import ipywidgets as widgets\n",
    "import random\n",
    "import time\n",
    "import requests\n",
    "import json\n",
    "from bs4 import BeautifulSoup\n",
    "from datetime import datetime\n",
    "import pandas as pd\n",
    "import threading\n",
    "from threading import Event\n",
    "\n",
    "print(\"\")\n",
    "print(\"We wish to record your response data\")\n",
    "print(\"to an anonymised public data repository. \")\n",
    "print(\"Your data will be used for educational teaching purposes\")\n",
    "print(\"practising data analysis and visualisation.\")\n",
    "print(\"\")\n",
    "print(\"Please type yes in the box below if you consent to the upload.\")\n",
    "\n",
    "Data = input(\"> \")\n",
    "if Data == \"yes\":\n",
    "    print(\"Thanks - your data will be uploaded.\")\n",
    "else:\n",
    "    print(\"No problem we hope you will enjoy the test anyways.\")\n",
    "\n",
    "name_widget = widgets.Text(description=\"ID:\")\n",
    "age_widget = widgets.IntText(description=\"Age:\")\n",
    "gender_widget = widgets.Dropdown(description=\"Gender:\", options=['Male', 'Female', 'Other'])\n",
    "year_widget = widgets.Text(description=\"Year at Uni:\")\n",
    "course_widget = widgets.Text(description=\"Course:\")\n",
    "caffeine_widget = widgets.Dropdown(description=\"Caffeine:\", options=['8h ago', '12h ago', '24h ago', '2+ days', 'None'])\n",
    "sleep_widget = widgets.Dropdown(description=\"Sleep:\", options=['< 4h', '5h', '6h', '7h', '8h+'])\n",
    "exercise_widget = widgets.Dropdown(description=\"Exercise:\", options=['Daily', 'Several/week', 'Weekly', 'Rarely', 'Never'])\n",
    "stress_level_widget = widgets.Dropdown(description=\"Stress:\", options=['Very Low', 'Low', 'Moderate', 'High', 'Very High'])\n",
    "submit_button = widgets.Button(description=\"Submit\")\n",
    "\n",
    "# Global variable to store user responses\n",
    "user_responses_global = None\n",
    "\n",
    "# Function to handle submit button click\n",
    "def on_submit_button_clicked(b):\n",
    "    global user_responses_global\n",
    "\n",
    "    # Capture all widget values\n",
    "    user_responses_global = {\n",
    "        \"Name\": name_widget.value,\n",
    "        \"Age\": age_widget.value,\n",
    "        \"Gender\": gender_widget.value,\n",
    "        \"Year\": year_widget.value,\n",
    "        \"Course\": course_widget.value,\n",
    "        \"Caffeine\": caffeine_widget.value,\n",
    "        \"Sleep\": sleep_widget.value,\n",
    "        \"Exercise\": exercise_widget.value,\n",
    "        \"Stress Level\": stress_level_widget.value\n",
    "    }\n",
    "\n",
    "    # Clear the widgets to indicate completion and continue with the test\n",
    "    clear_output()\n",
    "    # Here, you can call a function or add code to continue with the test\n",
    "    print(\"Data submitted! Continuing with the test...\")\n",
    "    # Example function to start the test (You should define this function)\n",
    "    display_rules()\n",
    "\n",
    "# Link the button to the function\n",
    "submit_button.on_click(on_submit_button_clicked)\n",
    "\n",
    "# Display all widgets\n",
    "display(name_widget, age_widget, gender_widget, year_widget, course_widget, caffeine_widget, sleep_widget, exercise_widget, stress_level_widget, submit_button)\n",
    "\n",
    "# Wait for the submit button to be clicked\n",
    "while user_responses_global is None:\n",
    "    time.sleep(0.1)\n",
    "\n",
    "# Example of sending data to Google Forms\n",
    "form_url = \"https://docs.google.com/forms/d/e/1FAIpQLSeEYE5ASv-DDZjOw286yQZC38wXJeNW3qhMdBVmjUB1IlR1RQ/formResponse\"\n",
    "\n",
    "# You should implement the send_to_google_form function as per your requirements.\n",
    "send_to_google_form(user_responses_global, form_url)\n",
    "\n",
    "### defining images as arrays\n",
    "array1 = Image(\"Array1.JPG\", width = 1000)\n",
    "array2 = Image(\"Array2.JPG\", width = 1000)\n",
    "array3 = Image(\"Array3.JPG\", width = 1000)\n",
    "array4 = Image(\"Array4.JPG\", width = 1000)\n",
    "array5 = Image(\"Array5.JPG\", width = 1000)\n",
    "array6 = Image(\"Array6.JPG\", width = 1000)\n",
    "\n",
    "### options for the dropdown widget\n",
    "color_options = [\"blue\", \"green\", \"red\", \"purple\", \"orange\", \"yellow\"]\n",
    "box_options = [\"1\", \"2\", \"3\"]\n",
    "shape_options = [\"square\", \"triangle\", \"arrow\", \"plus sign\", \"star\", \"circle\"]\n",
    "size_options = [\"square\", \"arrow\", \"star\", \"plus sign\", \"circle\"]  # Assuming these are size comparison options\n",
    "\n",
    "### writing out questions\n",
    "### allocationg the adequate set of options set above\n",
    "qs1 = {\n",
    "    \"What is the color of the triangle?\": color_options,\n",
    "    \"In which box is the square located?\": box_options,\n",
    "    \"What is the color of the circle?\": color_options\n",
    "}\n",
    "\n",
    "qs2 = {\n",
    "    \"What is the color of the square?\": color_options,\n",
    "    \"In which box is the circle located?\": box_options,\n",
    "    \"In which box is the triangle located?\": box_options  # Assuming the correct answer is a box number\n",
    "}\n",
    "\n",
    "qs3 = {\n",
    "    \"Which one is bigger: the arrow or the square?\": size_options,\n",
    "    \"In which box is the star located?\": box_options,\n",
    "    \"What shape is in the same box as the triangle?\": shape_options\n",
    "}\n",
    "\n",
    "qs4 = {\n",
    "    \"Which one is bigger: the star or the plus sign?\": size_options,\n",
    "    \"In which box is the arrow located?\": box_options,\n",
    "    \"What shape is in the same box as the circle?\": shape_options\n",
    "}\n",
    "\n",
    "qs5 = {\n",
    "    \"What color is the square?\": color_options,\n",
    "    \"In which box is the circle?\": box_options,\n",
    "    \"What shape is in the same box as the star?\": shape_options\n",
    "}\n",
    "\n",
    "qs6 = {\n",
    "    \"Which one is bigger: the circle or the plus sign?\": size_options,\n",
    "    \"What shape is in the same box as the triangle?\": shape_options,\n",
    "    \"What shape is in the same box as the arrow?\": shape_options\n",
    "}\n",
    "\n",
    "arrayqs = {array1 : qs1, array2 : qs2, array3 : qs3, array4 : qs4, array5 : qs5, array6 : qs6}\n",
    "\n",
    "# Correct answers for array1\n",
    "correct_answers = {\n",
    "    \"What is the color of the triangle?\": \"blue\",\n",
    "    \"In which box is the square located?\": \"1\",\n",
    "    \"What is the color of the circle?\": \"green\",\n",
    "    \"What is the color of the square?\": \"yellow\",\n",
    "    \"In which box is the circle located?\": \"3\",\n",
    "    \"In which box is the triangle located?\": \"2\",\n",
    "    \"Which one is bigger: the arrow or the square?\": \"square\",\n",
    "    \"In which box is the star located?\": \"2\",\n",
    "    \"What shape is in the same box as the triangle?\": \"square\",\n",
    "    \"Which one is bigger: the star or the plus sign?\": \"star\",\n",
    "    \"In which box is the arrow located?\": \"1\",\n",
    "    \"What shape is in the same box as the circle?\": \"plus sign\",\n",
    "    \"What color is the square?\": \"green\",\n",
    "    \"In which box is the circle?\": \"2\",\n",
    "    \"What shape is in the same box as the star?\": \"arrow\",\n",
    "    \"Which one is bigger: the circle or the plus sign?\": \"circle\",\n",
    "    \"What shape is in the same box as the triangle?\": \"square\",\n",
    "    \"What shape is in the same box as the arrow?\": \"square\"\n",
    "}\n",
    "\n",
    "# Mapping each Image object to its correct answers\n",
    "image_correct_answers = {\n",
    "    array1: correct_answers_array1,\n",
    "    array2: correct_answers_array2,\n",
    "    array3: correct_answers_array3,\n",
    "    array4: correct_answers_array4,\n",
    "    array5: correct_answers_array5,\n",
    "    array6: correct_answers_array6\n",
    "}\n",
    "\n",
    "question_title_mapping = {\n",
    "    \"What is the color of the triangle?\": 'q1ans_mem',\n",
    "    \"In which box is the square located?\": 'q2ans_mem',\n",
    "    \"What is the color of the circle?\": 'q3ans_mem',\n",
    "    \"What is the color of the square?\": \"q4ans_mem\",\n",
    "    \"In which box is the circle located?\": \"q5ans_mem\",\n",
    "    \"In which box is the triangle located?\": \"q6ans_mem\",\n",
    "    \"Which one is bigger: the arrow or the square?\": \"q7ans_mem\",\n",
    "    \"In which box is the star located?\": \"q8ans_mem\",\n",
    "    \"What shape is in the same box as the triangle?\": \"q9ans_mem\",\n",
    "    \"Which one is bigger: the star or the plus sign?\": \"q10ans_mem\",\n",
    "    \"In which box is the arrow located?\": \"q11ans_mem\",\n",
    "    \"What shape is in the same box as the circle?\": \"q12ans_mem\",\n",
    "    \"What color is the square?\": \"q13ans_mem\",\n",
    "    \"In which box is the circle?\": \"q14ans_mem\",\n",
    "    \"What shape is in the same box as the star?\": \"q15ans_mem\",\n",
    "    \"Which one is bigger: the circle or the plus sign?\": \"q16ans_mem\",\n",
    "    \"What shape is in the same box as the triangle?\": \"q17ans_mem\",\n",
    "    \"What shape is in the same box as the arrow?\": \"q18ans_mem\"\n",
    "}\n",
    "\n",
    "### setting rules for the game\n",
    "def display_rules():\n",
    "    colors = ['blue', 'green', 'red', 'purple', 'orange']\n",
    "    circle_image = 'O.jpg'  \n",
    "    \n",
    "    text = \"THE MEMORY TEST\"\n",
    "    colored_text = \"\"\n",
    "\n",
    "    ### title of the memory test with a picture within the word\n",
    "    for char in text:\n",
    "        if char == 'O':\n",
    "            colored_text += f\"<img src='{circle_image}' style='width: 24px; height: 24px;'/>\"\n",
    "        else:\n",
    "            colored_text += f\"<span style='color: {random.choice(colors)}'>{char}</span>\"\n",
    "    \n",
    "    text1 = HTML(f\"<h1>{colored_text}</h1>\")\n",
    "    \n",
    "    ### rules that will be displayed\n",
    "    messages = [\n",
    "        \"<h3>Hi! Before taking the memory test, we would first like to set some rules and introduce you to what you may expect!</h3>\",\n",
    "        \"<h3>This test consists of 6 rounds. In each round, an image with different shapes of different colors will be shown!</h3>\",\n",
    "        \"<h3>However, each image will be shown only for a limited period of time. Your goal is to memorise as much from the image as possible!</h3>\",\n",
    "        \"<h3>You will be asked questions about the shapes, including their position within the grid, their color or the shape they share the box with!</h3>\",\n",
    "        \"<h3>You will be marked based on the correctness of your answers. There is a time limit for the answers!</h3>\",\n",
    "        \"<h3>To ensure that you're really teasing your brain, we would like to ask you not to take pictures of the displayed images, nor to consult your answers with your peers.</h3>\",\n",
    "        \"<h3>That is all! We wish you a good luck!</h3>\"]\n",
    "    \n",
    "        \n",
    "    for message in messages:\n",
    "        display(text1)\n",
    "        temp_display = display(HTML(message), display_id=True)\n",
    "        time.sleep(1)\n",
    "        clear_output(wait=True)\n",
    "\n",
    "    clear_output()\n",
    "    \n",
    "    \n",
    "display_rules()   \n",
    "\n",
    "\n",
    "\n",
    "form_url = \"https://docs.google.com/forms/d/e/1FAIpQLSeEYE5ASv-DDZjOw286yQZC38wXJeNW3qhMdBVmjUB1IlR1RQ/formResponse\"\n",
    "\n",
    "\n",
    "\n",
    "def display_image_and_questions_with_radio_buttons(image, questions, correct_answers, input_time=4):\n",
    "    display(image)\n",
    "    time.sleep(1)  # Display image for a specified period\n",
    "    clear_output(wait=True)\n",
    "\n",
    "    user_responses = {}\n",
    "\n",
    "    for question, options in questions.items():\n",
    "        # Display each question with its radio buttons\n",
    "        radio_buttons = widgets.RadioButtons(options=options, description=question)\n",
    "        display(radio_buttons)\n",
    "        time.sleep(1)  # Wait for the specified time limit per question\n",
    "        selected_answer = radio_buttons.value\n",
    "        user_responses[question] = selected_answer\n",
    "\n",
    "        # Check the answer and display feedback\n",
    "        if selected_answer == correct_answers[question]:\n",
    "            print(\"Correct!\")\n",
    "        else:\n",
    "            print(\"Incorrect.\")\n",
    "\n",
    "        time.sleep(1)  # Brief pause to show feedback\n",
    "        clear_output(wait=True)\n",
    "\n",
    "    return user_responses\n",
    "    \n",
    "def send_to_google_form(user_responses, total_score, form_url):\n",
    "    view_form_url = form_url.replace('/formResponse', '/viewform')\n",
    "    post_form_url = form_url\n",
    "\n",
    "    page = requests.get(view_form_url)\n",
    "    content = BeautifulSoup(page.content, \"html.parser\").find('script', type='text/javascript')\n",
    "    content = content.text[27:-1]\n",
    "    result = json.loads(content)[1][1]\n",
    "    form_dict = {}\n",
    "\n",
    "    for item in result:\n",
    "        entry_id = f'entry.{item[4][0][0]}'\n",
    "        question_title = item[1]\n",
    "        if question_title in user_responses:\n",
    "            form_dict[entry_id] = user_responses[question_title]\n",
    "        elif question_title == 'Total Score':  # Update this to match the Google Form field for total score\n",
    "            form_dict[entry_id] = str(total_score)\n",
    "\n",
    "    response = requests.post(post_form_url, data=form_dict)\n",
    "    if response.status_code != 200:\n",
    "        print(f\"Failed to submit answers. Status code: {response.status_code}\")\n",
    "\n",
    "\n",
    "# Running the memory test and sending answers to Google Forms\n",
    "def run_memory_test_and_send_answers(arrayqs, image_correct_answers, form_url):\n",
    "    total_score = 0\n",
    "    user_responses_mapped = {}\n",
    "\n",
    "    for image, questions in arrayqs.items():\n",
    "        user_responses = display_image_and_questions_with_radio_buttons(image, questions, image_correct_answers[image])\n",
    "        \n",
    "        for q in questions:\n",
    "            if user_responses[q] == image_correct_answers[image][q]:\n",
    "                total_score += 1\n",
    "            mapped_question_title = question_title_mapping[q]\n",
    "            user_responses_mapped[mapped_question_title] = user_responses[q]\n",
    "\n",
    "    # Include user information in responses\n",
    "    user_responses_mapped['User ID'] = user_id\n",
    "    user_responses_mapped['Age'] = age\n",
    "    user_responses_mapped['Gender'] = gender\n",
    "\n",
    "    # Send data to Google Form\n",
    "    send_to_google_form(user_responses_mapped, total_score, form_url)\n",
    "\n",
    "    message = f\"Thank you for doing the test! You've scored {total_score} points.\"\n",
    "    print(message)\n",
    "\n",
    "# Call the function to run the test\n",
    "run_memory_test_and_send_answers(arrayqs, image_correct_answers, form_url)"
   ]
  },
  {
   "cell_type": "code",
   "execution_count": null,
   "id": "14a69d1f-8e6b-4221-8e22-ab5433bfcbb8",
   "metadata": {},
   "outputs": [],
   "source": []
  }
 ],
 "metadata": {
  "kernelspec": {
   "display_name": "Python 3 (ipykernel)",
   "language": "python",
   "name": "python3"
  },
  "language_info": {
   "codemirror_mode": {
    "name": "ipython",
    "version": 3
   },
   "file_extension": ".py",
   "mimetype": "text/x-python",
   "name": "python",
   "nbconvert_exporter": "python",
   "pygments_lexer": "ipython3",
   "version": "3.10.10"
  }
 },
 "nbformat": 4,
 "nbformat_minor": 5
}
