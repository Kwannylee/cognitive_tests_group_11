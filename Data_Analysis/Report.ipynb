{
 "cells": [
  {
   "cell_type": "code",
   "execution_count": 11,
   "id": "8bfc7446-cd76-4326-8966-26bdc21353cd",
   "metadata": {},
   "outputs": [
    {
     "ename": "SyntaxError",
     "evalue": "expected ':' (3965014613.py, line 7)",
     "output_type": "error",
     "traceback": [
      "\u001b[0;36m  File \u001b[0;32m/tmp/ipykernel_28313/3965014613.py:7\u001b[0;36m\u001b[0m\n\u001b[0;31m    def boxplot_male_female()\u001b[0m\n\u001b[0m                             ^\u001b[0m\n\u001b[0;31mSyntaxError\u001b[0m\u001b[0;31m:\u001b[0m expected ':'\n"
     ]
    },
    {
     "ename": "SyntaxError",
     "evalue": "expected ':' (3965014613.py, line 7)",
     "output_type": "error",
     "traceback": [
      "Traceback \u001b[0;36m(most recent call last)\u001b[0m:\n",
      "\u001b[0m  File \u001b[1;32m/opt/tljh/user/lib/python3.10/site-packages/IPython/core/interactiveshell.py:3526\u001b[0m in \u001b[1;35mrun_code\u001b[0m\n    exec(code_obj, self.user_global_ns, self.user_ns)\u001b[0m\n",
      "\u001b[0m  Cell \u001b[1;32mIn[11], line 1\u001b[0m\n    get_ipython().run_line_magic('run', 'partB.ipynb')\u001b[0m\n",
      "\u001b[0m  File \u001b[1;32m/opt/tljh/user/lib/python3.10/site-packages/IPython/core/interactiveshell.py:2432\u001b[0m in \u001b[1;35mrun_line_magic\u001b[0m\n    result = fn(*args, **kwargs)\u001b[0m\n",
      "\u001b[0m  File \u001b[1;32m/opt/tljh/user/lib/python3.10/site-packages/IPython/core/magics/execution.py:737\u001b[0m in \u001b[1;35mrun\u001b[0m\n    self.shell.safe_execfile_ipy(filename, raise_exceptions=True)\u001b[0m\n",
      "\u001b[0m  File \u001b[1;32m/opt/tljh/user/lib/python3.10/site-packages/IPython/core/interactiveshell.py:2954\u001b[0m in \u001b[1;35msafe_execfile_ipy\u001b[0m\n    result.raise_error()\u001b[0m\n",
      "\u001b[0m  File \u001b[1;32m/opt/tljh/user/lib/python3.10/site-packages/IPython/core/interactiveshell.py:268\u001b[0m in \u001b[1;35mraise_error\u001b[0m\n    raise self.error_before_exec\u001b[0m\n",
      "\u001b[0m  File \u001b[1;32m/opt/tljh/user/lib/python3.10/site-packages/IPython/core/interactiveshell.py:3256\u001b[0m in \u001b[1;35mrun_cell_async\u001b[0m\n    code_ast = compiler.ast_parse(cell, filename=cell_name)\u001b[0m\n",
      "\u001b[0;36m  File \u001b[0;32m/opt/tljh/user/lib/python3.10/site-packages/IPython/core/compilerop.py:86\u001b[0;36m in \u001b[0;35mast_parse\u001b[0;36m\n\u001b[0;31m    return compile(source, filename, symbol, self.flags | PyCF_ONLY_AST, 1)\u001b[0;36m\n",
      "\u001b[0;36m  File \u001b[0;32m/tmp/ipykernel_28313/3965014613.py:7\u001b[0;36m\u001b[0m\n\u001b[0;31m    def boxplot_male_female()\u001b[0m\n\u001b[0m                             ^\u001b[0m\n\u001b[0;31mSyntaxError\u001b[0m\u001b[0;31m:\u001b[0m expected ':'\n"
     ]
    }
   ],
   "source": [
    "%run partB.ipynb\n",
    "boxplot_male_female()"
   ]
  },
  {
   "cell_type": "code",
   "execution_count": null,
   "id": "36c974bf-c19c-49f1-8402-67cfef099047",
   "metadata": {},
   "outputs": [],
   "source": [
    "| Test    | Mean Score Male | Standard Error Male | Mean Score Female | Standard Error Female | Difference in Score | P-Value (Bonferroni corrected) |\n",
    "|---------|-----------------|---------------------|-------------------|-----------------------|---------------------|--------------------------------|\n",
    "| Spatial | 0.700           | 0.073               | 0.609             | 0.059                 | 0.091               | 1.000                          |\n",
    "| Memory  | 0.385           | 0.042               | 0.457             | 0.041                 | -0.072              | 1.000                          |\n",
    "| Math    | 0.849           | 0.034               | 0.877             | 0.022                 | -0.028              | 1.000                          |\n",
    "| Ans     | 0.558           | 0.025               | 0.535             | 0.030                 | 0.023               | 1.000                          |"
   ]
  }
 ],
 "metadata": {
  "kernelspec": {
   "display_name": "Python 3 (ipykernel)",
   "language": "python",
   "name": "python3"
  },
  "language_info": {
   "codemirror_mode": {
    "name": "ipython",
    "version": 3
   },
   "file_extension": ".py",
   "mimetype": "text/x-python",
   "name": "python",
   "nbconvert_exporter": "python",
   "pygments_lexer": "ipython3",
   "version": "3.10.10"
  }
 },
 "nbformat": 4,
 "nbformat_minor": 5
}
