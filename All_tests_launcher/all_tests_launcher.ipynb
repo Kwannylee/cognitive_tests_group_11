{
 "cells": [
  {
   "cell_type": "code",
   "execution_count": 18,
   "id": "67df6e4b-8878-4d2d-b860-3de1c93b5984",
   "metadata": {},
   "outputs": [
    {
     "data": {
      "application/vnd.jupyter.widget-view+json": {
       "model_id": "e3730449dd1f431fad74fba1cd67692e",
       "version_major": 2,
       "version_minor": 0
      },
      "text/plain": [
       "HTML(value=\"<div style='text-align: center; font-size: 16px;'><h2>Welcome to the UCL BIOS0030 cognitive tasks …"
      ]
     },
     "metadata": {},
     "output_type": "display_data"
    },
    {
     "data": {
      "application/vnd.jupyter.widget-view+json": {
       "model_id": "d10f0d6d4db847dd87eb17fee3409511",
       "version_major": 2,
       "version_minor": 0
      },
      "text/plain": [
       "VBox(children=(GridspecLayout(children=(Image(value=b'\\x89PNG\\r\\n\\x1a\\n\\x00\\x00\\x00\\rIHDR\\x00\\x00\\x01O\\x00\\x00…"
      ]
     },
     "metadata": {},
     "output_type": "display_data"
    },
    {
     "data": {
      "application/vnd.jupyter.widget-view+json": {
       "model_id": "fc45f1cc129d444783cf2977b640c22c",
       "version_major": 2,
       "version_minor": 0
      },
      "text/plain": [
       "Output()"
      ]
     },
     "metadata": {},
     "output_type": "display_data"
    }
   ],
   "source": [
    "#imports for reading other files\n",
    "import io\n",
    "import os\n",
    "from nbformat import read\n",
    "import sys\n",
    "from pygments import highlight\n",
    "from pygments.lexers import PythonLexer\n",
    "from pygments.formatters import HtmlFormatter\n",
    "###################################################\n",
    "\n",
    "#imports for the main menu\n",
    "import ipywidgets as widgets\n",
    "from IPython.display import display, clear_output\n",
    "\n",
    "original_dir = specified_dir = \"/home/jupyter-szymon.lic.22@ucl.-69ac9/cognitive_tests_group_11/All_tests_launcher/\"\n",
    "\n",
    "class TestsRunner:\n",
    "    def __init__(self, home_screen):\n",
    "        self.home_screen = home_screen\n",
    "        \n",
    "    def run_notebook_code(self, notebook_path):\n",
    "        # Define the lexer and formatter\n",
    "        lexer = PythonLexer()\n",
    "        formatter = HtmlFormatter()\n",
    "\n",
    "        # Read the notebook\n",
    "        with io.open(notebook_path, 'r', encoding='utf-8') as f:\n",
    "            nb = read(f, 4)\n",
    "\n",
    "        # Get the global namespace\n",
    "        global_namespace = globals()\n",
    "\n",
    "        # Execute the code cells in the global scope\n",
    "        for cell in nb.cells:\n",
    "            if cell.cell_type == 'code':\n",
    "                # Change directory before executing each cell\n",
    "                os.chdir(f\"/home/jupyter-szymon.lic.22@ucl.-69ac9/cognitive_tests_group_11/{self.home_screen.test_clicked}\")\n",
    "                \n",
    "                # Execute cell source in the global namespace\n",
    "                exec(cell.source, global_namespace)\n",
    "\n",
    "        # Change back to the original directory after all cells have been executed\n",
    "        os.chdir(original_dir)\n",
    "\n",
    "class HomeScreen:\n",
    "    def __init__(self):\n",
    "        self.tests_runner = TestsRunner(self)\n",
    "        self.tracking_taken_tests = {\"Ans\": 0, \"Math\": 0, \"Memory\": 0, \"Spatial\": 0}\n",
    "        self.output = widgets.Output()\n",
    "        \n",
    "    def button_clicking_logic(self, test_clicked):\n",
    "        def on_button_click(b, test_clicked=test_clicked):\n",
    "            self.test_clicked = test_clicked\n",
    "            with self.output:\n",
    "                clear_output()  # Clear the output of the current cell\n",
    "                script_path = f\"/home/jupyter-szymon.lic.22@ucl.-69ac9/cognitive_tests_group_11/{self.test_clicked}/{self.test_clicked}.ipynb\"\n",
    "                self.tests_runner.run_notebook_code(script_path)\n",
    "        return on_button_click\n",
    "        \n",
    "    def home_screen_widgets(self):\n",
    "        home_text = widgets.HTML(\n",
    "            value=\"<div style='text-align: center; font-size: 16px;'>\"\n",
    "            \"<h2>Welcome to the UCL BIOS0030 cognitive tasks main menu</h2>\"\n",
    "            \"<p>You will have a chance to complete four different cognitive tasks, each testing different abilities.</p><br>\"\n",
    "            \"You may wish to allocate 10-15 minutes to complete all of them. After completing each task, the widgets will be marked.<br>\"\n",
    "            \"To help you keep track of your progress. Most importantly, take them with a grain of salt. Just like humans, cognitive tests are not perfect,<br>\"\n",
    "            \"and are not a reflection of your true abilities, nor value. Have fun!</div>\",  # Added closing </div>\n",
    "            layout=widgets.Layout(justify_content='center')\n",
    "        )\n",
    "        display(home_text)\n",
    "    \n",
    "        choices_dictionary = {\n",
    "            \n",
    "            \"ANS_Test\": {\n",
    "                \"photo\": widgets.Image(value=open(\"ans.png\", \"rb\").read(), format='png', width=150, height=150),\n",
    "                \"button\": widgets.Button(description=\"ANS Test\")\n",
    "            },\n",
    "            \"Maths_Test\": {\n",
    "                \"photo\": widgets.Image(value=open(\"math_photo.png\", \"rb\").read(), format='png', width=150, height=150),\n",
    "                \"button\": widgets.Button(description=\"Maths Test\")\n",
    "            },\n",
    "            \"Memory_Test\": {\n",
    "                \"photo\": widgets.Image(value=open(\"memory.png\", \"rb\").read(), format='png', width=150, height=150),\n",
    "                \"button\": widgets.Button(description=\"Memory Test\")\n",
    "            },\n",
    "            \"Spatial_Test\": {\n",
    "                \"photo\": widgets.Image(value=open(\"puzzle.png\", \"rb\").read(), format='png', width=150, height=150),\n",
    "                \"button\": widgets.Button(description=\"Spatial Test\")\n",
    "            }\n",
    "        }\n",
    "    \n",
    "        for test, widget in choices_dictionary.items():\n",
    "            widget[\"button\"].on_click(self.button_clicking_logic(test))  # Corrected the parenthesis\n",
    "    \n",
    "        # Grid layout\n",
    "        grid = widgets.GridspecLayout(2, 4)  # Removed the colon\n",
    "        for i, (test, test_widgets) in enumerate(choices_dictionary.items()):  # Renamed 'widgets' to 'test_widgets'\n",
    "            grid[0, i] = test_widgets[\"photo\"]\n",
    "            grid[1, i] = test_widgets[\"button\"]\n",
    "\n",
    "        vboxed_grid = widgets.VBox([grid],\n",
    "                            layout=widgets.Layout(align_items='center'))\n",
    "        \n",
    "        display(vboxed_grid)\n",
    "    \n",
    "#Create an instance of home_screen\n",
    "os.chdir(specified_dir)\n",
    "home = HomeScreen()\n",
    "home.home_screen_widgets()\n",
    "display(home.output) "
   ]
  },
  {
   "cell_type": "code",
   "execution_count": null,
   "id": "5e03382b-c7a8-49e8-a16f-62cc526550cc",
   "metadata": {},
   "outputs": [],
   "source": []
  }
 ],
 "metadata": {
  "kernelspec": {
   "display_name": "Python 3 (ipykernel)",
   "language": "python",
   "name": "python3"
  },
  "language_info": {
   "codemirror_mode": {
    "name": "ipython",
    "version": 3
   },
   "file_extension": ".py",
   "mimetype": "text/x-python",
   "name": "python",
   "nbconvert_exporter": "python",
   "pygments_lexer": "ipython3",
   "version": "3.10.10"
  }
 },
 "nbformat": 4,
 "nbformat_minor": 5
}
