{
 "cells": [
  {
   "cell_type": "code",
   "execution_count": 1,
   "id": "54e82e44-7110-457c-8702-52833ee3bc5a",
   "metadata": {},
   "outputs": [
    {
     "name": "stdout",
     "output_type": "stream",
     "text": [
      "The absolute path of 'ANS_test' is: /home/jupyter-szymon.lic.22@ucl.-69ac9/cognitive_tests_group_11/ANS_test\n"
     ]
    }
   ],
   "source": [
    "import os\n",
    "\n",
    "# Replace 'your_file_or_directory' with the path to the file or directory you want to find the absolute path for.\n",
    "file_or_directory = 'ANS_test'\n",
    "\n",
    "# Get the absolute path\n",
    "absolute_path = os.path.abspath(file_or_directory)\n",
    "\n",
    "# Print the absolute path\n",
    "print(f\"The absolute path of '{file_or_directory}' is: {absolute_path}\")\n"
   ]
  },
  {
   "cell_type": "code",
   "execution_count": null,
   "id": "29fa436a-0730-4dc8-b00d-26b4420c769b",
   "metadata": {},
   "outputs": [],
   "source": []
  }
 ],
 "metadata": {
  "kernelspec": {
   "display_name": "Python 3 (ipykernel)",
   "language": "python",
   "name": "python3"
  },
  "language_info": {
   "codemirror_mode": {
    "name": "ipython",
    "version": 3
   },
   "file_extension": ".py",
   "mimetype": "text/x-python",
   "name": "python",
   "nbconvert_exporter": "python",
   "pygments_lexer": "ipython3",
   "version": "3.10.10"
  }
 },
 "nbformat": 4,
 "nbformat_minor": 5
}
